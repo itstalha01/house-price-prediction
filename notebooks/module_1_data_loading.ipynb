{
  "nbformat": 4,
  "nbformat_minor": 0,
  "metadata": {
    "colab": {
      "provenance": [],
      "authorship_tag": "ABX9TyN23H9EtIujEWuVpwADprAB",
      "include_colab_link": true
    },
    "kernelspec": {
      "name": "python3",
      "display_name": "Python 3"
    },
    "language_info": {
      "name": "python"
    }
  },
  "cells": [
    {
      "cell_type": "markdown",
      "metadata": {
        "id": "view-in-github",
        "colab_type": "text"
      },
      "source": [
        "<a href=\"https://colab.research.google.com/github/itstalha01/house-price-prediction/blob/main/notebooks/module_1_data_loading.ipynb\" target=\"_parent\"><img src=\"https://colab.research.google.com/assets/colab-badge.svg\" alt=\"Open In Colab\"/></a>"
      ]
    },
    {
      "cell_type": "markdown",
      "source": [
        "**Installation of dependencies**"
      ],
      "metadata": {
        "id": "7wh79EbTP7iy"
      }
    },
    {
      "cell_type": "code",
      "execution_count": null,
      "metadata": {
        "id": "EuJNzOwcLnGG"
      },
      "outputs": [],
      "source": [
        "!pip install kagglehub pandas numpy matplotlib seaborn scikit-learn\n"
      ]
    },
    {
      "cell_type": "markdown",
      "source": [
        "**Loading Dataset**"
      ],
      "metadata": {
        "id": "JdRQ75dSQJ8_"
      }
    },
    {
      "cell_type": "code",
      "source": [
        "import kagglehub\n",
        "path = kagglehub.dataset_download(\"camnugent/california-housing-prices\")\n"
      ],
      "metadata": {
        "id": "C3V8LUS4PI4P"
      },
      "execution_count": null,
      "outputs": []
    },
    {
      "cell_type": "markdown",
      "source": [
        "**Read CSV with pandas and inspect it**"
      ],
      "metadata": {
        "id": "cnUYq2foQqW4"
      }
    },
    {
      "cell_type": "code",
      "source": [
        "import pandas as pd\n",
        "data= pd.read_csv(path+'/housing.csv')\n",
        "data.head()"
      ],
      "metadata": {
        "id": "vZ89gRgUP5Wk"
      },
      "execution_count": null,
      "outputs": []
    }
  ]
}